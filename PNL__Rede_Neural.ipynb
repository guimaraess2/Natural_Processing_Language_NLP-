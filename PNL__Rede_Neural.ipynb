{
  "nbformat": 4,
  "nbformat_minor": 0,
  "metadata": {
    "colab": {
      "name": "PNL _Rede_Neural",
      "provenance": [],
      "authorship_tag": "ABX9TyMUszd4R9mrktKPOu0nW0bH",
      "include_colab_link": true
    },
    "kernelspec": {
      "name": "python3",
      "display_name": "Python 3"
    },
    "language_info": {
      "name": "python"
    }
  },
  "cells": [
    {
      "cell_type": "markdown",
      "metadata": {
        "id": "view-in-github",
        "colab_type": "text"
      },
      "source": [
        "<a href=\"https://colab.research.google.com/github/guimaraess2/Natural_Processing_Language_NLP-/blob/main/PNL__Rede_Neural.ipynb\" target=\"_parent\"><img src=\"https://colab.research.google.com/assets/colab-badge.svg\" alt=\"Open In Colab\"/></a>"
      ]
    },
    {
      "cell_type": "markdown",
      "source": [
        "**Importando as bibliotecas / Importing the libraries**"
      ],
      "metadata": {
        "id": "bOj2ltwJO4sg"
      }
    },
    {
      "cell_type": "code",
      "execution_count": 38,
      "metadata": {
        "id": "m8sDgu5q3k9y"
      },
      "outputs": [],
      "source": [
        "import pandas as pd\n",
        "from sklearn.model_selection import train_test_split\n",
        "from sklearn.metrics import confusion_matrix, accuracy_score, classification_report\n",
        "from sklearn.ensemble import RandomForestClassifier \n",
        "from sklearn.feature_extraction.text import TfidfVectorizer \n",
        "import seaborn as sns\n",
        "from sklearn.preprocessing import LabelEncoder\n",
        "from sklearn.feature_extraction.text import CountVectorizer\n",
        "from keras.models import Sequential \n",
        "from keras.layers import Dense, Dropout, Flatten, Embedding\n",
        "from google.colab import files\n",
        "import numpy as np\n",
        "from keras.preprocessing.text import Tokenizer\n",
        "from keras.preprocessing.sequence import pad_sequences\n",
        "import matplotlib as plt"
      ]
    },
    {
      "cell_type": "markdown",
      "source": [
        "**Importando o dataset / Importing the dataset**"
      ],
      "metadata": {
        "id": "C6YSv7qKO_pe"
      }
    },
    {
      "cell_type": "code",
      "source": [
        "df = pd.read_csv(\"C:\\Documentos\\Mauro\\Redes_Neurais\\NLP\\spam_ham_dataset.csv\")"
      ],
      "metadata": {
        "id": "CBYPmcL59jo-"
      },
      "execution_count": 39,
      "outputs": []
    },
    {
      "cell_type": "code",
      "source": [
        "df.head()"
      ],
      "metadata": {
        "colab": {
          "base_uri": "https://localhost:8080/",
          "height": 206
        },
        "id": "IM6h6t4g9_IE",
        "outputId": "d3d43785-dcf4-495f-fee2-1779ff900aa1"
      },
      "execution_count": 40,
      "outputs": [
        {
          "output_type": "execute_result",
          "data": {
            "text/plain": [
              "   Unnamed: 0 label                                               text  \\\n",
              "0         605   ham  Subject: enron methanol ; meter # : 988291\\r\\n...   \n",
              "1        2349   ham  Subject: hpl nom for january 9 , 2001\\r\\n( see...   \n",
              "2        3624   ham  Subject: neon retreat\\r\\nho ho ho , we ' re ar...   \n",
              "3        4685  spam  Subject: photoshop , windows , office . cheap ...   \n",
              "4        2030   ham  Subject: re : indian springs\\r\\nthis deal is t...   \n",
              "\n",
              "   label_num  \n",
              "0          0  \n",
              "1          0  \n",
              "2          0  \n",
              "3          1  \n",
              "4          0  "
            ],
            "text/html": [
              "\n",
              "  <div id=\"df-26ceecc8-52f0-43b2-a912-df1a2dd677c9\">\n",
              "    <div class=\"colab-df-container\">\n",
              "      <div>\n",
              "<style scoped>\n",
              "    .dataframe tbody tr th:only-of-type {\n",
              "        vertical-align: middle;\n",
              "    }\n",
              "\n",
              "    .dataframe tbody tr th {\n",
              "        vertical-align: top;\n",
              "    }\n",
              "\n",
              "    .dataframe thead th {\n",
              "        text-align: right;\n",
              "    }\n",
              "</style>\n",
              "<table border=\"1\" class=\"dataframe\">\n",
              "  <thead>\n",
              "    <tr style=\"text-align: right;\">\n",
              "      <th></th>\n",
              "      <th>Unnamed: 0</th>\n",
              "      <th>label</th>\n",
              "      <th>text</th>\n",
              "      <th>label_num</th>\n",
              "    </tr>\n",
              "  </thead>\n",
              "  <tbody>\n",
              "    <tr>\n",
              "      <th>0</th>\n",
              "      <td>605</td>\n",
              "      <td>ham</td>\n",
              "      <td>Subject: enron methanol ; meter # : 988291\\r\\n...</td>\n",
              "      <td>0</td>\n",
              "    </tr>\n",
              "    <tr>\n",
              "      <th>1</th>\n",
              "      <td>2349</td>\n",
              "      <td>ham</td>\n",
              "      <td>Subject: hpl nom for january 9 , 2001\\r\\n( see...</td>\n",
              "      <td>0</td>\n",
              "    </tr>\n",
              "    <tr>\n",
              "      <th>2</th>\n",
              "      <td>3624</td>\n",
              "      <td>ham</td>\n",
              "      <td>Subject: neon retreat\\r\\nho ho ho , we ' re ar...</td>\n",
              "      <td>0</td>\n",
              "    </tr>\n",
              "    <tr>\n",
              "      <th>3</th>\n",
              "      <td>4685</td>\n",
              "      <td>spam</td>\n",
              "      <td>Subject: photoshop , windows , office . cheap ...</td>\n",
              "      <td>1</td>\n",
              "    </tr>\n",
              "    <tr>\n",
              "      <th>4</th>\n",
              "      <td>2030</td>\n",
              "      <td>ham</td>\n",
              "      <td>Subject: re : indian springs\\r\\nthis deal is t...</td>\n",
              "      <td>0</td>\n",
              "    </tr>\n",
              "  </tbody>\n",
              "</table>\n",
              "</div>\n",
              "      <button class=\"colab-df-convert\" onclick=\"convertToInteractive('df-26ceecc8-52f0-43b2-a912-df1a2dd677c9')\"\n",
              "              title=\"Convert this dataframe to an interactive table.\"\n",
              "              style=\"display:none;\">\n",
              "        \n",
              "  <svg xmlns=\"http://www.w3.org/2000/svg\" height=\"24px\"viewBox=\"0 0 24 24\"\n",
              "       width=\"24px\">\n",
              "    <path d=\"M0 0h24v24H0V0z\" fill=\"none\"/>\n",
              "    <path d=\"M18.56 5.44l.94 2.06.94-2.06 2.06-.94-2.06-.94-.94-2.06-.94 2.06-2.06.94zm-11 1L8.5 8.5l.94-2.06 2.06-.94-2.06-.94L8.5 2.5l-.94 2.06-2.06.94zm10 10l.94 2.06.94-2.06 2.06-.94-2.06-.94-.94-2.06-.94 2.06-2.06.94z\"/><path d=\"M17.41 7.96l-1.37-1.37c-.4-.4-.92-.59-1.43-.59-.52 0-1.04.2-1.43.59L10.3 9.45l-7.72 7.72c-.78.78-.78 2.05 0 2.83L4 21.41c.39.39.9.59 1.41.59.51 0 1.02-.2 1.41-.59l7.78-7.78 2.81-2.81c.8-.78.8-2.07 0-2.86zM5.41 20L4 18.59l7.72-7.72 1.47 1.35L5.41 20z\"/>\n",
              "  </svg>\n",
              "      </button>\n",
              "      \n",
              "  <style>\n",
              "    .colab-df-container {\n",
              "      display:flex;\n",
              "      flex-wrap:wrap;\n",
              "      gap: 12px;\n",
              "    }\n",
              "\n",
              "    .colab-df-convert {\n",
              "      background-color: #E8F0FE;\n",
              "      border: none;\n",
              "      border-radius: 50%;\n",
              "      cursor: pointer;\n",
              "      display: none;\n",
              "      fill: #1967D2;\n",
              "      height: 32px;\n",
              "      padding: 0 0 0 0;\n",
              "      width: 32px;\n",
              "    }\n",
              "\n",
              "    .colab-df-convert:hover {\n",
              "      background-color: #E2EBFA;\n",
              "      box-shadow: 0px 1px 2px rgba(60, 64, 67, 0.3), 0px 1px 3px 1px rgba(60, 64, 67, 0.15);\n",
              "      fill: #174EA6;\n",
              "    }\n",
              "\n",
              "    [theme=dark] .colab-df-convert {\n",
              "      background-color: #3B4455;\n",
              "      fill: #D2E3FC;\n",
              "    }\n",
              "\n",
              "    [theme=dark] .colab-df-convert:hover {\n",
              "      background-color: #434B5C;\n",
              "      box-shadow: 0px 1px 3px 1px rgba(0, 0, 0, 0.15);\n",
              "      filter: drop-shadow(0px 1px 2px rgba(0, 0, 0, 0.3));\n",
              "      fill: #FFFFFF;\n",
              "    }\n",
              "  </style>\n",
              "\n",
              "      <script>\n",
              "        const buttonEl =\n",
              "          document.querySelector('#df-26ceecc8-52f0-43b2-a912-df1a2dd677c9 button.colab-df-convert');\n",
              "        buttonEl.style.display =\n",
              "          google.colab.kernel.accessAllowed ? 'block' : 'none';\n",
              "\n",
              "        async function convertToInteractive(key) {\n",
              "          const element = document.querySelector('#df-26ceecc8-52f0-43b2-a912-df1a2dd677c9');\n",
              "          const dataTable =\n",
              "            await google.colab.kernel.invokeFunction('convertToInteractive',\n",
              "                                                     [key], {});\n",
              "          if (!dataTable) return;\n",
              "\n",
              "          const docLinkHtml = 'Like what you see? Visit the ' +\n",
              "            '<a target=\"_blank\" href=https://colab.research.google.com/notebooks/data_table.ipynb>data table notebook</a>'\n",
              "            + ' to learn more about interactive tables.';\n",
              "          element.innerHTML = '';\n",
              "          dataTable['output_type'] = 'display_data';\n",
              "          await google.colab.output.renderOutput(dataTable, element);\n",
              "          const docLink = document.createElement('div');\n",
              "          docLink.innerHTML = docLinkHtml;\n",
              "          element.appendChild(docLink);\n",
              "        }\n",
              "      </script>\n",
              "    </div>\n",
              "  </div>\n",
              "  "
            ]
          },
          "metadata": {},
          "execution_count": 40
        }
      ]
    },
    {
      "cell_type": "markdown",
      "source": [
        "**Realizando a codificação categórica / Categorical encoding**"
      ],
      "metadata": {
        "id": "kKHHipHMPO4N"
      }
    },
    {
      "cell_type": "code",
      "source": [
        "le = LabelEncoder()\n",
        "rotulo = le.fit_transform(df['label'])\n",
        "\n"
      ],
      "metadata": {
        "id": "N1wyqmc5LmZk"
      },
      "execution_count": 41,
      "outputs": []
    },
    {
      "cell_type": "markdown",
      "source": [
        "**Separando as classes de treino e teste / Train test split**"
      ],
      "metadata": {
        "id": "0lnG3Fq2PZEf"
      }
    },
    {
      "cell_type": "code",
      "source": [
        "msg = df['text'].values \n",
        "X_train, X_test, y_train, y_test = train_test_split(msg, rotulo , test_size=0.3)\n"
      ],
      "metadata": {
        "id": "3Unu_6qELmja"
      },
      "execution_count": 42,
      "outputs": []
    },
    {
      "cell_type": "markdown",
      "source": [
        "**Realização a tokenização das palavras / Words tokenization**"
      ],
      "metadata": {
        "id": "wLFgvaM3Pn8W"
      }
    },
    {
      "cell_type": "code",
      "source": [
        "token = Tokenizer(num_words=1000) \n",
        "token.fit_on_texts(X_train) \n"
      ],
      "metadata": {
        "id": "VdYxLiH-Lmpg"
      },
      "execution_count": 43,
      "outputs": []
    },
    {
      "cell_type": "markdown",
      "source": [
        "**Convertendo os tokens em sequencias numéricas / \n",
        "Converting tokens of text corpus into a sequence of integers.**"
      ],
      "metadata": {
        "id": "2hEBY6z2P1uX"
      }
    },
    {
      "cell_type": "code",
      "source": [
        "X_train = token.texts_to_sequences(X_train)\n",
        "X_test = token.texts_to_sequences(X_test)"
      ],
      "metadata": {
        "id": "k7ZdL-rz9cYg"
      },
      "execution_count": 44,
      "outputs": []
    },
    {
      "cell_type": "markdown",
      "source": [
        "**Transformando os dados em um formato tabular / Transforming the data into a tabular format**"
      ],
      "metadata": {
        "id": "7kXwFiugAvNu"
      }
    },
    {
      "cell_type": "code",
      "source": [
        "X_train = pad_sequences(X_train, padding=\"post\", maxlen=500)\n",
        "X_test = pad_sequences(X_test, padding=\"post\", maxlen=500)\n",
        "\n"
      ],
      "metadata": {
        "id": "oqvvgSc4BIvA"
      },
      "execution_count": 45,
      "outputs": []
    },
    {
      "cell_type": "markdown",
      "source": [
        "**Visualizando o tamanho do vocabulário / \n",
        "Viewing vocabulary size**"
      ],
      "metadata": {
        "id": "0r_p947QYAl_"
      }
    },
    {
      "cell_type": "code",
      "source": [
        "print(len(token.word_index))"
      ],
      "metadata": {
        "colab": {
          "base_uri": "https://localhost:8080/"
        },
        "id": "eQ356zqXH2Zx",
        "outputId": "c8cbab4a-657d-4500-d0ec-bb0bf4061bbd"
      },
      "execution_count": 46,
      "outputs": [
        {
          "output_type": "stream",
          "name": "stdout",
          "text": [
            "47773\n"
          ]
        }
      ]
    },
    {
      "cell_type": "markdown",
      "source": [
        "**Montando a topologia da rede neural e criando os embeddings / Neural Networks Topology**"
      ],
      "metadata": {
        "id": "nkBNG4JQzGVR"
      }
    },
    {
      "cell_type": "code",
      "source": [
        "model = Sequential() \n",
        "model.add(Embedding(input_dim=len(token.word_index), output_dim=50, input_length=500))\n",
        "model.add(Flatten()) \n",
        "model.add(Dense(units = 10, activation=\"relu\"))\n",
        "model.add(Dropout(0.1)) \n",
        "model.add(Dense(units = 1, activation=\"sigmoid\")) "
      ],
      "metadata": {
        "id": "08veBnYELmw9"
      },
      "execution_count": 47,
      "outputs": []
    },
    {
      "cell_type": "markdown",
      "source": [
        "**Compilando o modelo / Compiling the model**"
      ],
      "metadata": {
        "id": "KSslNm9J1o2u"
      }
    },
    {
      "cell_type": "code",
      "source": [
        "model.compile(loss=\"mean_squared_error\", optimizer=\"adam\", metrics=[\"accuracy\"])\n",
        "model.summary()"
      ],
      "metadata": {
        "colab": {
          "base_uri": "https://localhost:8080/"
        },
        "id": "QilUbaeSLmzn",
        "outputId": "e858694c-dbc0-4a41-e890-4ec47198fd46"
      },
      "execution_count": 48,
      "outputs": [
        {
          "output_type": "stream",
          "name": "stdout",
          "text": [
            "Model: \"sequential_1\"\n",
            "_________________________________________________________________\n",
            " Layer (type)                Output Shape              Param #   \n",
            "=================================================================\n",
            " embedding_1 (Embedding)     (None, 500, 50)           2388650   \n",
            "                                                                 \n",
            " flatten_1 (Flatten)         (None, 25000)             0         \n",
            "                                                                 \n",
            " dense_2 (Dense)             (None, 10)                250010    \n",
            "                                                                 \n",
            " dropout_1 (Dropout)         (None, 10)                0         \n",
            "                                                                 \n",
            " dense_3 (Dense)             (None, 1)                 11        \n",
            "                                                                 \n",
            "=================================================================\n",
            "Total params: 2,638,671\n",
            "Trainable params: 2,638,671\n",
            "Non-trainable params: 0\n",
            "_________________________________________________________________\n"
          ]
        }
      ]
    },
    {
      "cell_type": "markdown",
      "source": [
        "**Treinamento da rede neural / \n",
        "Neural network training**"
      ],
      "metadata": {
        "id": "2jiduWGR27me"
      }
    },
    {
      "cell_type": "code",
      "source": [
        "model.fit(X_train, y_train, validation_data = (X_test, y_test), epochs = 20, batch_size = 64, shuffle = True)"
      ],
      "metadata": {
        "colab": {
          "base_uri": "https://localhost:8080/"
        },
        "id": "Fu2wpYe06ikW",
        "outputId": "d496f52d-6bba-400b-8b70-93c6952e245a"
      },
      "execution_count": 49,
      "outputs": [
        {
          "output_type": "stream",
          "name": "stdout",
          "text": [
            "Epoch 1/20\n",
            "57/57 [==============================] - 4s 59ms/step - loss: 0.1818 - accuracy: 0.7427 - val_loss: 0.1046 - val_accuracy: 0.9201\n",
            "Epoch 2/20\n",
            "57/57 [==============================] - 3s 55ms/step - loss: 0.0616 - accuracy: 0.9268 - val_loss: 0.0411 - val_accuracy: 0.9626\n",
            "Epoch 3/20\n",
            "57/57 [==============================] - 3s 48ms/step - loss: 0.0337 - accuracy: 0.9577 - val_loss: 0.0355 - val_accuracy: 0.9555\n",
            "Epoch 4/20\n",
            "57/57 [==============================] - 2s 42ms/step - loss: 0.0200 - accuracy: 0.9765 - val_loss: 0.0247 - val_accuracy: 0.9691\n",
            "Epoch 5/20\n",
            "57/57 [==============================] - 2s 42ms/step - loss: 0.0116 - accuracy: 0.9901 - val_loss: 0.0235 - val_accuracy: 0.9684\n",
            "Epoch 6/20\n",
            "57/57 [==============================] - 3s 45ms/step - loss: 0.0082 - accuracy: 0.9928 - val_loss: 0.0230 - val_accuracy: 0.9691\n",
            "Epoch 7/20\n",
            "57/57 [==============================] - 3s 51ms/step - loss: 0.0056 - accuracy: 0.9959 - val_loss: 0.0237 - val_accuracy: 0.9665\n",
            "Epoch 8/20\n",
            "57/57 [==============================] - 3s 54ms/step - loss: 0.0047 - accuracy: 0.9961 - val_loss: 0.0233 - val_accuracy: 0.9697\n",
            "Epoch 9/20\n",
            "57/57 [==============================] - 3s 46ms/step - loss: 0.0036 - accuracy: 0.9964 - val_loss: 0.0247 - val_accuracy: 0.9665\n",
            "Epoch 10/20\n",
            "57/57 [==============================] - 3s 52ms/step - loss: 0.0034 - accuracy: 0.9975 - val_loss: 0.0230 - val_accuracy: 0.9684\n",
            "Epoch 11/20\n",
            "57/57 [==============================] - 3s 55ms/step - loss: 0.0025 - accuracy: 0.9981 - val_loss: 0.0233 - val_accuracy: 0.9684\n",
            "Epoch 12/20\n",
            "57/57 [==============================] - 3s 51ms/step - loss: 0.0023 - accuracy: 0.9981 - val_loss: 0.0235 - val_accuracy: 0.9684\n",
            "Epoch 13/20\n",
            "57/57 [==============================] - 3s 45ms/step - loss: 0.0021 - accuracy: 0.9981 - val_loss: 0.0256 - val_accuracy: 0.9665\n",
            "Epoch 14/20\n",
            "57/57 [==============================] - 3s 52ms/step - loss: 0.0022 - accuracy: 0.9978 - val_loss: 0.0247 - val_accuracy: 0.9684\n",
            "Epoch 15/20\n",
            "57/57 [==============================] - 3s 50ms/step - loss: 0.0021 - accuracy: 0.9981 - val_loss: 0.0251 - val_accuracy: 0.9639\n",
            "Epoch 16/20\n",
            "57/57 [==============================] - 3s 45ms/step - loss: 0.0018 - accuracy: 0.9983 - val_loss: 0.0246 - val_accuracy: 0.9652\n",
            "Epoch 17/20\n",
            "57/57 [==============================] - 3s 61ms/step - loss: 0.0014 - accuracy: 0.9983 - val_loss: 0.0253 - val_accuracy: 0.9684\n",
            "Epoch 18/20\n",
            "57/57 [==============================] - 3s 49ms/step - loss: 0.0017 - accuracy: 0.9983 - val_loss: 0.0253 - val_accuracy: 0.9671\n",
            "Epoch 19/20\n",
            "57/57 [==============================] - 2s 42ms/step - loss: 0.0015 - accuracy: 0.9983 - val_loss: 0.0259 - val_accuracy: 0.9665\n",
            "Epoch 20/20\n",
            "57/57 [==============================] - 3s 55ms/step - loss: 0.0015 - accuracy: 0.9983 - val_loss: 0.0264 - val_accuracy: 0.9671\n"
          ]
        },
        {
          "output_type": "execute_result",
          "data": {
            "text/plain": [
              "<keras.callbacks.History at 0x7fc18dffd190>"
            ]
          },
          "metadata": {},
          "execution_count": 49
        }
      ]
    },
    {
      "cell_type": "markdown",
      "source": [
        "**Verificando a acurácia do modelo / Checking model accuracy**"
      ],
      "metadata": {
        "id": "kE_zV14JNT8n"
      }
    },
    {
      "cell_type": "code",
      "source": [
        "loss, accuracy = model.evaluate(X_test, y_test)\n",
        "print(\"Loss\", loss)\n",
        "#print(\"%.2f\" % accuracy)    print('a is {:.2%} .'.format(a))\n",
        "print(\"A acurácia do modelo é de {:.2%}.\".format(accuracy))"
      ],
      "metadata": {
        "colab": {
          "base_uri": "https://localhost:8080/"
        },
        "id": "7Iv1ntDxLm4n",
        "outputId": "6b92d01c-7e1f-448e-f03d-835266d78901"
      },
      "execution_count": 50,
      "outputs": [
        {
          "output_type": "stream",
          "name": "stdout",
          "text": [
            "49/49 [==============================] - 0s 4ms/step - loss: 0.0264 - accuracy: 0.9671\n",
            "Loss 0.026410365477204323\n",
            "A acurácia do modelo é de 96.71%.\n"
          ]
        }
      ]
    },
    {
      "cell_type": "markdown",
      "source": [
        "**Realizando uma previsão de mensagem se é spam ou não spam / Performing a message prediction whether it is spam or not spam**"
      ],
      "metadata": {
        "id": "zReMQSQ41RiI"
      }
    },
    {
      "cell_type": "code",
      "source": [
        "nova_previsão = model.predict(X_test)\n",
        "prev = (nova_previsão > 0.5)\n",
        "print(prev)"
      ],
      "metadata": {
        "colab": {
          "base_uri": "https://localhost:8080/"
        },
        "id": "kPzUeZv5Lm6m",
        "outputId": "952a2166-0310-4215-ef19-adf0b8a13810"
      },
      "execution_count": 51,
      "outputs": [
        {
          "output_type": "stream",
          "name": "stdout",
          "text": [
            "[[False]\n",
            " [ True]\n",
            " [False]\n",
            " ...\n",
            " [False]\n",
            " [False]\n",
            " [ True]]\n"
          ]
        }
      ]
    },
    {
      "cell_type": "markdown",
      "source": [
        "**Criando a matriz de confusão / Confusion Matriz**"
      ],
      "metadata": {
        "id": "q3DcSsk72LNE"
      }
    },
    {
      "cell_type": "code",
      "source": [
        "cm = confusion_matrix(y_test, prev)\n",
        "ax = sns.heatmap(cm, annot=True, cmap='BuPu', fmt='g')\n",
        "ax.set_title('Matriz de confusão');\n",
        "ax.set_xlabel('Valores preditos')\n",
        "ax.set_ylabel('Valores atuais ');\n",
        "ax.xaxis.set_ticklabels(['Vedadeiro','Falso'])\n",
        "ax.yaxis.set_ticklabels(['Verdadeiro','Falso'])\n"
      ],
      "metadata": {
        "colab": {
          "base_uri": "https://localhost:8080/",
          "height": 312
        },
        "id": "fex2a6Y_TetR",
        "outputId": "a945e571-9a78-4f19-acd4-7dde595a09d2"
      },
      "execution_count": 52,
      "outputs": [
        {
          "output_type": "execute_result",
          "data": {
            "text/plain": [
              "[Text(0, 0.5, 'Verdadeiro'), Text(0, 1.5, 'Falso')]"
            ]
          },
          "metadata": {},
          "execution_count": 52
        },
        {
          "output_type": "display_data",
          "data": {
            "text/plain": [
              "<Figure size 432x288 with 2 Axes>"
            ],
            "image/png": "[encoded data removed]"
          },
          "metadata": {
            "needs_background": "light"
          }
        }
      ]
    }
  ]
}