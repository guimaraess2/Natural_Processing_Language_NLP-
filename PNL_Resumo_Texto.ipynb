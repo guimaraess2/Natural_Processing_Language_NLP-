{
  "nbformat": 4,
  "nbformat_minor": 0,
  "metadata": {
    "colab": {
      "name": "PNL_Resumo_Texto.ipynb",
      "provenance": [],
      "authorship_tag": "ABX9TyO8a9mO8dyTapSImECxAGHP",
      "include_colab_link": true
    },
    "kernelspec": {
      "name": "python3",
      "display_name": "Python 3"
    },
    "language_info": {
      "name": "python"
    }
  },
  "cells": [
    {
      "cell_type": "markdown",
      "metadata": {
        "id": "view-in-github",
        "colab_type": "text"
      },
      "source": [
        "<a href=\"https://colab.research.google.com/github/guimaraess2/Sentiment-Analysis-NLP-/blob/main/PNL_Resumo_Texto.ipynb\" target=\"_parent\"><img src=\"https://colab.research.google.com/assets/colab-badge.svg\" alt=\"Open In Colab\"/></a>"
      ]
    },
    {
      "cell_type": "markdown",
      "source": [
        "**Importando as bibliotecas**"
      ],
      "metadata": {
        "id": "u-lALzp34nnM"
      }
    },
    {
      "cell_type": "code",
      "execution_count": 71,
      "metadata": {
        "id": "JPPadc_f6EzK",
        "colab": {
          "base_uri": "https://localhost:8080/"
        },
        "outputId": "893489a6-a47e-474c-a3d0-879a53c35ae7"
      },
      "outputs": [
        {
          "output_type": "stream",
          "name": "stdout",
          "text": [
            "[nltk_data] Downloading package punkt to /root/nltk_data...\n",
            "[nltk_data]   Package punkt is already up-to-date!\n",
            "[nltk_data] Downloading package stopwords to /root/nltk_data...\n",
            "[nltk_data]   Package stopwords is already up-to-date!\n"
          ]
        }
      ],
      "source": [
        "import re\n",
        "import pandas as pd\n",
        "import nltk\n",
        "import seaborn as sns\n",
        "nltk.download('punkt')\n",
        "import string\n",
        "nltk.download('stopwords')\n",
        "import heapq"
      ]
    },
    {
      "cell_type": "markdown",
      "source": [
        "**Copiando o texto original para resumo**"
      ],
      "metadata": {
        "id": "d3TiaGiX4yM1"
      }
    },
    {
      "cell_type": "code",
      "source": [
        "# \"\"\"\" indica que o texto está em formato string\n",
        "texto_principal = \"\"\"O processamento de linguagem natural (PLN) é um campo da inteligência artificial no qual os computadores analisam, entendem e derivam significados da linguagem humana de maneira inteligente e útil. Ao utilizar a NLP, os desenvolvedores podem organizar e estruturar o conhecimento para executar tarefas como sumarização automática, tradução, reconhecimento de entidade nomeada, extração de relacionamento, análise de sentimento, reconhecimento de fala e segmentação de tópicos.\n",
        "\"Além das operações comuns do processador de texto que tratam o texto como uma mera sequência de símbolos, a PNL considera a estrutura hierárquica da linguagem: várias palavras formam uma frase, várias frases formam uma frase e, em última análise, as frases transmitem ideias\", John Rehling, especialista em PNL. especialista do Meltwater Group, diz em  How Natural Language Processing Helps Uncover Social Media Sentiment . \"Ao analisar a linguagem pelo seu significado, os sistemas de PNL têm desempenhado funções úteis há muito tempo, como corrigir gramática, converter fala em texto e traduzir automaticamente entre idiomas.\"\n",
        "A PNL é usada para analisar texto, permitindo que as máquinas  entendam como os humanos falam . Essa interação humano-computador permite aplicativos do mundo real, como  resumo automático de texto ,  análise de sentimento ,  extração de tópicos ,  reconhecimento de entidade nomeada ,  marcação de partes de fala ,  extração de relacionamento ,  lematização e muito mais. A PNL é comumente usada para  mineração de texto ,  tradução automática e  resposta automática de perguntas .\n",
        "A PNL é caracterizada como um problema difícil em ciência da computação. A linguagem humana raramente é precisa ou falada com clareza. Entender a linguagem humana é entender não apenas as palavras, mas os conceitos e como eles estão  ligados entre si para criar significado . Apesar da linguagem ser uma das coisas mais fáceis para a mente humana aprender, a ambiguidade da linguagem é o que torna o processamento da linguagem natural um problema difícil para os computadores dominarem.\"\"\""
      ],
      "metadata": {
        "id": "LWPywmxN-zko"
      },
      "execution_count": 72,
      "outputs": []
    },
    {
      "cell_type": "markdown",
      "source": [
        "**Visualizando o texto**"
      ],
      "metadata": {
        "id": "F3R5dp-l5ZSp"
      }
    },
    {
      "cell_type": "code",
      "source": [
        "texto_principal"
      ],
      "metadata": {
        "colab": {
          "base_uri": "https://localhost:8080/",
          "height": 105
        },
        "id": "2PIHo86O0-GT",
        "outputId": "678ed133-260d-40c0-80c5-44516aacc8a4"
      },
      "execution_count": 73,
      "outputs": [
        {
          "output_type": "execute_result",
          "data": {
            "text/plain": [
              "'O processamento de linguagem natural (PLN) é um campo da inteligência artificial no qual os computadores analisam, entendem e derivam significados da linguagem humana de maneira inteligente e útil. Ao utilizar a NLP, os desenvolvedores podem organizar e estruturar o conhecimento para executar tarefas como sumarização automática, tradução, reconhecimento de entidade nomeada, extração de relacionamento, análise de sentimento, reconhecimento de fala e segmentação de tópicos.\\n\"Além das operações comuns do processador de texto que tratam o texto como uma mera sequência de símbolos, a PNL considera a estrutura hierárquica da linguagem: várias palavras formam uma frase, várias frases formam uma frase e, em última análise, as frases transmitem ideias\", John Rehling, especialista em PNL. especialista do Meltwater Group, diz em  How Natural Language Processing Helps Uncover Social Media Sentiment . \"Ao analisar a linguagem pelo seu significado, os sistemas de PNL têm desempenhado funções úteis há muito tempo, como corrigir gramática, converter fala em texto e traduzir automaticamente entre idiomas.\"\\nA PNL é usada para analisar texto, permitindo que as máquinas  entendam como os humanos falam . Essa interação humano-computador permite aplicativos do mundo real, como  resumo automático de texto ,  análise de sentimento ,  extração de tópicos ,  reconhecimento de entidade nomeada ,  marcação de partes de fala ,  extração de relacionamento ,  lematização e muito mais. A PNL é comumente usada para  mineração de texto ,  tradução automática e  resposta automática de perguntas .\\nA PNL é caracterizada como um problema difícil em ciência da computação. A linguagem humana raramente é precisa ou falada com clareza. Entender a linguagem humana é entender não apenas as palavras, mas os conceitos e como eles estão  ligados entre si para criar significado . Apesar da linguagem ser uma das coisas mais fáceis para a mente humana aprender, a ambiguidade da linguagem é o que torna o processamento da linguagem natural um problema difícil para os computadores dominarem.'"
            ],
            "application/vnd.google.colaboratory.intrinsic+json": {
              "type": "string"
            }
          },
          "metadata": {},
          "execution_count": 73
        }
      ]
    },
    {
      "cell_type": "markdown",
      "source": [
        "**Localizando as stopwords**"
      ],
      "metadata": {
        "id": "6FohCA5q5fVi"
      }
    },
    {
      "cell_type": "code",
      "source": [
        "stopwords = nltk.corpus.stopwords.words('portuguese')\n",
        "print(stopwords)"
      ],
      "metadata": {
        "colab": {
          "base_uri": "https://localhost:8080/"
        },
        "id": "v6-mSV69k9bW",
        "outputId": "8e991792-4b33-40e8-9865-62d917f98397"
      },
      "execution_count": 74,
      "outputs": [
        {
          "output_type": "stream",
          "name": "stdout",
          "text": [
            "['de', 'a', 'o', 'que', 'e', 'é', 'do', 'da', 'em', 'um', 'para', 'com', 'não', 'uma', 'os', 'no', 'se', 'na', 'por', 'mais', 'as', 'dos', 'como', 'mas', 'ao', 'ele', 'das', 'à', 'seu', 'sua', 'ou', 'quando', 'muito', 'nos', 'já', 'eu', 'também', 'só', 'pelo', 'pela', 'até', 'isso', 'ela', 'entre', 'depois', 'sem', 'mesmo', 'aos', 'seus', 'quem', 'nas', 'me', 'esse', 'eles', 'você', 'essa', 'num', 'nem', 'suas', 'meu', 'às', 'minha', 'numa', 'pelos', 'elas', 'qual', 'nós', 'lhe', 'deles', 'essas', 'esses', 'pelas', 'este', 'dele', 'tu', 'te', 'vocês', 'vos', 'lhes', 'meus', 'minhas', 'teu', 'tua', 'teus', 'tuas', 'nosso', 'nossa', 'nossos', 'nossas', 'dela', 'delas', 'esta', 'estes', 'estas', 'aquele', 'aquela', 'aqueles', 'aquelas', 'isto', 'aquilo', 'estou', 'está', 'estamos', 'estão', 'estive', 'esteve', 'estivemos', 'estiveram', 'estava', 'estávamos', 'estavam', 'estivera', 'estivéramos', 'esteja', 'estejamos', 'estejam', 'estivesse', 'estivéssemos', 'estivessem', 'estiver', 'estivermos', 'estiverem', 'hei', 'há', 'havemos', 'hão', 'houve', 'houvemos', 'houveram', 'houvera', 'houvéramos', 'haja', 'hajamos', 'hajam', 'houvesse', 'houvéssemos', 'houvessem', 'houver', 'houvermos', 'houverem', 'houverei', 'houverá', 'houveremos', 'houverão', 'houveria', 'houveríamos', 'houveriam', 'sou', 'somos', 'são', 'era', 'éramos', 'eram', 'fui', 'foi', 'fomos', 'foram', 'fora', 'fôramos', 'seja', 'sejamos', 'sejam', 'fosse', 'fôssemos', 'fossem', 'for', 'formos', 'forem', 'serei', 'será', 'seremos', 'serão', 'seria', 'seríamos', 'seriam', 'tenho', 'tem', 'temos', 'tém', 'tinha', 'tínhamos', 'tinham', 'tive', 'teve', 'tivemos', 'tiveram', 'tivera', 'tivéramos', 'tenha', 'tenhamos', 'tenham', 'tivesse', 'tivéssemos', 'tivessem', 'tiver', 'tivermos', 'tiverem', 'terei', 'terá', 'teremos', 'terão', 'teria', 'teríamos', 'teriam']\n"
          ]
        }
      ]
    },
    {
      "cell_type": "markdown",
      "source": [
        "**Lista de pontuações**"
      ],
      "metadata": {
        "id": "X5v0JxTnev-0"
      }
    },
    {
      "cell_type": "code",
      "source": [
        "string.punctuation"
      ],
      "metadata": {
        "colab": {
          "base_uri": "https://localhost:8080/",
          "height": 36
        },
        "id": "M1tdwHgaG4ey",
        "outputId": "3f50df8b-8115-451d-9c18-387a04417ac4"
      },
      "execution_count": 75,
      "outputs": [
        {
          "output_type": "execute_result",
          "data": {
            "text/plain": [
              "'!\"#$%&\\'()*+,-./:;<=>?@[\\\\]^_`{|}~'"
            ],
            "application/vnd.google.colaboratory.intrinsic+json": {
              "type": "string"
            }
          },
          "metadata": {},
          "execution_count": 75
        }
      ]
    },
    {
      "cell_type": "markdown",
      "source": [
        "**Criando uma função que:**\n",
        "\n",
        "1.   *Converte o texto para minúsculo*\n",
        "2.   *Converte o texto em tokens*\n",
        "3.   *Recria uma lista de tokens sem as stopwords*\n",
        "4.   *Retorna o texto formatado*\n",
        "\n",
        "\n",
        "\n",
        "\n"
      ],
      "metadata": {
        "id": "qa3enDDc5xjW"
      }
    },
    {
      "cell_type": "code",
      "source": [
        "def processamento_1 (texto): #criando uma função que recebe como parâmetro \"texto\"\n",
        "  texto_formatado = texto.lower() #variavel recebe o texto em minusculo\n",
        "  tok = []\n",
        "  for token in nltk.word_tokenize(texto_formatado): #função nltk busca no texto os tokens\n",
        "    tok.append(token) #adiciona os tokens na lista vazia tok\n",
        "\n",
        "  tok = [palavra for palavra in tok if palavra not in stopwords and #recriando a lista de tokens sem as stopwords\n",
        "         palavra not in string.punctuation] #retirando da lista as pontuações\n",
        "  texto_formatado = ' '.join([str(elemento) for elemento in tok])\n",
        "  return texto_formatado\n"
      ],
      "metadata": {
        "id": "ocqsXDee2bIU"
      },
      "execution_count": 76,
      "outputs": []
    },
    {
      "cell_type": "markdown",
      "source": [
        "**Mostrando o texto formatado**"
      ],
      "metadata": {
        "id": "Ruq8JnOT6zqH"
      }
    },
    {
      "cell_type": "code",
      "source": [
        "#texto convertido para minúsculo, sem stopwords e sem pontuações\n",
        "texto_formatado = processamento_1(texto_principal)\n",
        "texto_formatado"
      ],
      "metadata": {
        "colab": {
          "base_uri": "https://localhost:8080/",
          "height": 105
        },
        "id": "r-LdS4_Q3BJs",
        "outputId": "284a02f4-6d04-489c-f829-a449a31a65a8"
      },
      "execution_count": 77,
      "outputs": [
        {
          "output_type": "execute_result",
          "data": {
            "text/plain": [
              "\"processamento linguagem natural pln campo inteligência artificial computadores analisam entendem derivam significados linguagem humana maneira inteligente útil utilizar nlp desenvolvedores podem organizar estruturar conhecimento executar tarefas sumarização automática tradução reconhecimento entidade nomeada extração relacionamento análise sentimento reconhecimento fala segmentação tópicos `` além operações comuns processador texto tratam texto mera sequência símbolos pnl considera estrutura hierárquica linguagem várias palavras formam frase várias frases formam frase última análise frases transmitem ideias '' john rehling especialista pnl especialista meltwater group diz how natural language processing helps uncover social media sentiment `` analisar linguagem significado sistemas pnl têm desempenhado funções úteis tempo corrigir gramática converter fala texto traduzir automaticamente idiomas '' pnl usada analisar texto permitindo máquinas entendam humanos falam interação humano-computador permite aplicativos mundo real resumo automático texto análise sentimento extração tópicos reconhecimento entidade nomeada marcação partes fala extração relacionamento lematização pnl comumente usada mineração texto tradução automática resposta automática perguntas pnl caracterizada problema difícil ciência computação linguagem humana raramente precisa falada clareza entender linguagem humana entender apenas palavras conceitos ligados si criar significado apesar linguagem ser coisas fáceis mente humana aprender ambiguidade linguagem torna processamento linguagem natural problema difícil computadores dominarem\""
            ],
            "application/vnd.google.colaboratory.intrinsic+json": {
              "type": "string"
            }
          },
          "metadata": {},
          "execution_count": 77
        }
      ]
    },
    {
      "cell_type": "markdown",
      "source": [
        "**Criando um dicionário para mostrar a frequência das palavras**"
      ],
      "metadata": {
        "id": "AzK3IYB1ei2j"
      }
    },
    {
      "cell_type": "code",
      "source": [
        "freq_palavras = nltk.FreqDist(nltk.word_tokenize(texto_formatado))\n",
        "freq_palavras"
      ],
      "metadata": {
        "colab": {
          "base_uri": "https://localhost:8080/"
        },
        "id": "BKL6wMJKH00x",
        "outputId": "6e31cc9b-66bc-43b3-bf25-f868f0e0adf6"
      },
      "execution_count": 78,
      "outputs": [
        {
          "output_type": "execute_result",
          "data": {
            "text/plain": [
              "FreqDist({\"''\": 2,\n",
              "          '``': 2,\n",
              "          'além': 1,\n",
              "          'ambiguidade': 1,\n",
              "          'analisam': 1,\n",
              "          'analisar': 2,\n",
              "          'análise': 3,\n",
              "          'apenas': 1,\n",
              "          'apesar': 1,\n",
              "          'aplicativos': 1,\n",
              "          'aprender': 1,\n",
              "          'artificial': 1,\n",
              "          'automaticamente': 1,\n",
              "          'automática': 3,\n",
              "          'automático': 1,\n",
              "          'campo': 1,\n",
              "          'caracterizada': 1,\n",
              "          'ciência': 1,\n",
              "          'clareza': 1,\n",
              "          'coisas': 1,\n",
              "          'computadores': 2,\n",
              "          'computação': 1,\n",
              "          'comumente': 1,\n",
              "          'comuns': 1,\n",
              "          'conceitos': 1,\n",
              "          'conhecimento': 1,\n",
              "          'considera': 1,\n",
              "          'converter': 1,\n",
              "          'corrigir': 1,\n",
              "          'criar': 1,\n",
              "          'derivam': 1,\n",
              "          'desempenhado': 1,\n",
              "          'desenvolvedores': 1,\n",
              "          'difícil': 2,\n",
              "          'diz': 1,\n",
              "          'dominarem': 1,\n",
              "          'entendam': 1,\n",
              "          'entendem': 1,\n",
              "          'entender': 2,\n",
              "          'entidade': 2,\n",
              "          'especialista': 2,\n",
              "          'estrutura': 1,\n",
              "          'estruturar': 1,\n",
              "          'executar': 1,\n",
              "          'extração': 3,\n",
              "          'fala': 3,\n",
              "          'falada': 1,\n",
              "          'falam': 1,\n",
              "          'formam': 2,\n",
              "          'frase': 2,\n",
              "          'frases': 2,\n",
              "          'funções': 1,\n",
              "          'fáceis': 1,\n",
              "          'gramática': 1,\n",
              "          'group': 1,\n",
              "          'helps': 1,\n",
              "          'hierárquica': 1,\n",
              "          'how': 1,\n",
              "          'humana': 4,\n",
              "          'humano-computador': 1,\n",
              "          'humanos': 1,\n",
              "          'ideias': 1,\n",
              "          'idiomas': 1,\n",
              "          'inteligente': 1,\n",
              "          'inteligência': 1,\n",
              "          'interação': 1,\n",
              "          'john': 1,\n",
              "          'language': 1,\n",
              "          'lematização': 1,\n",
              "          'ligados': 1,\n",
              "          'linguagem': 9,\n",
              "          'maneira': 1,\n",
              "          'marcação': 1,\n",
              "          'media': 1,\n",
              "          'meltwater': 1,\n",
              "          'mente': 1,\n",
              "          'mera': 1,\n",
              "          'mineração': 1,\n",
              "          'mundo': 1,\n",
              "          'máquinas': 1,\n",
              "          'natural': 3,\n",
              "          'nlp': 1,\n",
              "          'nomeada': 2,\n",
              "          'operações': 1,\n",
              "          'organizar': 1,\n",
              "          'palavras': 2,\n",
              "          'partes': 1,\n",
              "          'perguntas': 1,\n",
              "          'permite': 1,\n",
              "          'permitindo': 1,\n",
              "          'pln': 1,\n",
              "          'pnl': 6,\n",
              "          'podem': 1,\n",
              "          'precisa': 1,\n",
              "          'problema': 2,\n",
              "          'processador': 1,\n",
              "          'processamento': 2,\n",
              "          'processing': 1,\n",
              "          'raramente': 1,\n",
              "          'real': 1,\n",
              "          'reconhecimento': 3,\n",
              "          'rehling': 1,\n",
              "          'relacionamento': 2,\n",
              "          'resposta': 1,\n",
              "          'resumo': 1,\n",
              "          'segmentação': 1,\n",
              "          'sentiment': 1,\n",
              "          'sentimento': 2,\n",
              "          'sequência': 1,\n",
              "          'ser': 1,\n",
              "          'si': 1,\n",
              "          'significado': 2,\n",
              "          'significados': 1,\n",
              "          'sistemas': 1,\n",
              "          'social': 1,\n",
              "          'sumarização': 1,\n",
              "          'símbolos': 1,\n",
              "          'tarefas': 1,\n",
              "          'tempo': 1,\n",
              "          'texto': 6,\n",
              "          'torna': 1,\n",
              "          'traduzir': 1,\n",
              "          'tradução': 2,\n",
              "          'transmitem': 1,\n",
              "          'tratam': 1,\n",
              "          'têm': 1,\n",
              "          'tópicos': 2,\n",
              "          'uncover': 1,\n",
              "          'usada': 2,\n",
              "          'utilizar': 1,\n",
              "          'várias': 2,\n",
              "          'última': 1,\n",
              "          'úteis': 1,\n",
              "          'útil': 1})"
            ]
          },
          "metadata": {},
          "execution_count": 78
        }
      ]
    },
    {
      "cell_type": "markdown",
      "source": [
        "**Criando um dicionário para mostrar a frequência proporcional das palavras**"
      ],
      "metadata": {
        "id": "l34h7dArfA3C"
      }
    },
    {
      "cell_type": "code",
      "source": [
        "max_freq = max(freq_palavras.values()) #visualizando a frequencia máxima \n",
        "max_freq"
      ],
      "metadata": {
        "colab": {
          "base_uri": "https://localhost:8080/"
        },
        "id": "Z3Vp4v7ze1fi",
        "outputId": "67e68601-f029-47a9-c44b-48f3d6b9d011"
      },
      "execution_count": 79,
      "outputs": [
        {
          "output_type": "execute_result",
          "data": {
            "text/plain": [
              "9"
            ]
          },
          "metadata": {},
          "execution_count": 79
        }
      ]
    },
    {
      "cell_type": "code",
      "source": [
        "for palavra in freq_palavras.keys(): #acessando a chave do dicionário de frequencia\n",
        "  freq_palavras[palavra] = (freq_palavras[palavra] / max_freq) #dividindo o valor da palavra pela frequencia máxima\n",
        "freq_palavras"
      ],
      "metadata": {
        "colab": {
          "base_uri": "https://localhost:8080/"
        },
        "id": "veyLPJ4mfeJF",
        "outputId": "7c0ac515-654c-45d3-9ab9-d8b0d1b1f3e0"
      },
      "execution_count": 80,
      "outputs": [
        {
          "output_type": "execute_result",
          "data": {
            "text/plain": [
              "FreqDist({\"''\": 0.2222222222222222,\n",
              "          '``': 0.2222222222222222,\n",
              "          'além': 0.1111111111111111,\n",
              "          'ambiguidade': 0.1111111111111111,\n",
              "          'analisam': 0.1111111111111111,\n",
              "          'analisar': 0.2222222222222222,\n",
              "          'análise': 0.3333333333333333,\n",
              "          'apenas': 0.1111111111111111,\n",
              "          'apesar': 0.1111111111111111,\n",
              "          'aplicativos': 0.1111111111111111,\n",
              "          'aprender': 0.1111111111111111,\n",
              "          'artificial': 0.1111111111111111,\n",
              "          'automaticamente': 0.1111111111111111,\n",
              "          'automática': 0.3333333333333333,\n",
              "          'automático': 0.1111111111111111,\n",
              "          'campo': 0.1111111111111111,\n",
              "          'caracterizada': 0.1111111111111111,\n",
              "          'ciência': 0.1111111111111111,\n",
              "          'clareza': 0.1111111111111111,\n",
              "          'coisas': 0.1111111111111111,\n",
              "          'computadores': 0.2222222222222222,\n",
              "          'computação': 0.1111111111111111,\n",
              "          'comumente': 0.1111111111111111,\n",
              "          'comuns': 0.1111111111111111,\n",
              "          'conceitos': 0.1111111111111111,\n",
              "          'conhecimento': 0.1111111111111111,\n",
              "          'considera': 0.1111111111111111,\n",
              "          'converter': 0.1111111111111111,\n",
              "          'corrigir': 0.1111111111111111,\n",
              "          'criar': 0.1111111111111111,\n",
              "          'derivam': 0.1111111111111111,\n",
              "          'desempenhado': 0.1111111111111111,\n",
              "          'desenvolvedores': 0.1111111111111111,\n",
              "          'difícil': 0.2222222222222222,\n",
              "          'diz': 0.1111111111111111,\n",
              "          'dominarem': 0.1111111111111111,\n",
              "          'entendam': 0.1111111111111111,\n",
              "          'entendem': 0.1111111111111111,\n",
              "          'entender': 0.2222222222222222,\n",
              "          'entidade': 0.2222222222222222,\n",
              "          'especialista': 0.2222222222222222,\n",
              "          'estrutura': 0.1111111111111111,\n",
              "          'estruturar': 0.1111111111111111,\n",
              "          'executar': 0.1111111111111111,\n",
              "          'extração': 0.3333333333333333,\n",
              "          'fala': 0.3333333333333333,\n",
              "          'falada': 0.1111111111111111,\n",
              "          'falam': 0.1111111111111111,\n",
              "          'formam': 0.2222222222222222,\n",
              "          'frase': 0.2222222222222222,\n",
              "          'frases': 0.2222222222222222,\n",
              "          'funções': 0.1111111111111111,\n",
              "          'fáceis': 0.1111111111111111,\n",
              "          'gramática': 0.1111111111111111,\n",
              "          'group': 0.1111111111111111,\n",
              "          'helps': 0.1111111111111111,\n",
              "          'hierárquica': 0.1111111111111111,\n",
              "          'how': 0.1111111111111111,\n",
              "          'humana': 0.4444444444444444,\n",
              "          'humano-computador': 0.1111111111111111,\n",
              "          'humanos': 0.1111111111111111,\n",
              "          'ideias': 0.1111111111111111,\n",
              "          'idiomas': 0.1111111111111111,\n",
              "          'inteligente': 0.1111111111111111,\n",
              "          'inteligência': 0.1111111111111111,\n",
              "          'interação': 0.1111111111111111,\n",
              "          'john': 0.1111111111111111,\n",
              "          'language': 0.1111111111111111,\n",
              "          'lematização': 0.1111111111111111,\n",
              "          'ligados': 0.1111111111111111,\n",
              "          'linguagem': 1.0,\n",
              "          'maneira': 0.1111111111111111,\n",
              "          'marcação': 0.1111111111111111,\n",
              "          'media': 0.1111111111111111,\n",
              "          'meltwater': 0.1111111111111111,\n",
              "          'mente': 0.1111111111111111,\n",
              "          'mera': 0.1111111111111111,\n",
              "          'mineração': 0.1111111111111111,\n",
              "          'mundo': 0.1111111111111111,\n",
              "          'máquinas': 0.1111111111111111,\n",
              "          'natural': 0.3333333333333333,\n",
              "          'nlp': 0.1111111111111111,\n",
              "          'nomeada': 0.2222222222222222,\n",
              "          'operações': 0.1111111111111111,\n",
              "          'organizar': 0.1111111111111111,\n",
              "          'palavras': 0.2222222222222222,\n",
              "          'partes': 0.1111111111111111,\n",
              "          'perguntas': 0.1111111111111111,\n",
              "          'permite': 0.1111111111111111,\n",
              "          'permitindo': 0.1111111111111111,\n",
              "          'pln': 0.1111111111111111,\n",
              "          'pnl': 0.6666666666666666,\n",
              "          'podem': 0.1111111111111111,\n",
              "          'precisa': 0.1111111111111111,\n",
              "          'problema': 0.2222222222222222,\n",
              "          'processador': 0.1111111111111111,\n",
              "          'processamento': 0.2222222222222222,\n",
              "          'processing': 0.1111111111111111,\n",
              "          'raramente': 0.1111111111111111,\n",
              "          'real': 0.1111111111111111,\n",
              "          'reconhecimento': 0.3333333333333333,\n",
              "          'rehling': 0.1111111111111111,\n",
              "          'relacionamento': 0.2222222222222222,\n",
              "          'resposta': 0.1111111111111111,\n",
              "          'resumo': 0.1111111111111111,\n",
              "          'segmentação': 0.1111111111111111,\n",
              "          'sentiment': 0.1111111111111111,\n",
              "          'sentimento': 0.2222222222222222,\n",
              "          'sequência': 0.1111111111111111,\n",
              "          'ser': 0.1111111111111111,\n",
              "          'si': 0.1111111111111111,\n",
              "          'significado': 0.2222222222222222,\n",
              "          'significados': 0.1111111111111111,\n",
              "          'sistemas': 0.1111111111111111,\n",
              "          'social': 0.1111111111111111,\n",
              "          'sumarização': 0.1111111111111111,\n",
              "          'símbolos': 0.1111111111111111,\n",
              "          'tarefas': 0.1111111111111111,\n",
              "          'tempo': 0.1111111111111111,\n",
              "          'texto': 0.6666666666666666,\n",
              "          'torna': 0.1111111111111111,\n",
              "          'traduzir': 0.1111111111111111,\n",
              "          'tradução': 0.2222222222222222,\n",
              "          'transmitem': 0.1111111111111111,\n",
              "          'tratam': 0.1111111111111111,\n",
              "          'têm': 0.1111111111111111,\n",
              "          'tópicos': 0.2222222222222222,\n",
              "          'uncover': 0.1111111111111111,\n",
              "          'usada': 0.2222222222222222,\n",
              "          'utilizar': 0.1111111111111111,\n",
              "          'várias': 0.2222222222222222,\n",
              "          'última': 0.1111111111111111,\n",
              "          'úteis': 0.1111111111111111,\n",
              "          'útil': 0.1111111111111111})"
            ]
          },
          "metadata": {},
          "execution_count": 80
        }
      ]
    },
    {
      "cell_type": "markdown",
      "source": [
        "**Tokenizando o texto principal criando uma lista de sentenças**"
      ],
      "metadata": {
        "id": "L3yzhzmk_Bk1"
      }
    },
    {
      "cell_type": "code",
      "source": [
        "sentenca_list = nltk.sent_tokenize(texto_principal) #tokenizar o texto principal e guardar na variável \"sentenca_list\"\n",
        "sentenca_list"
      ],
      "metadata": {
        "colab": {
          "base_uri": "https://localhost:8080/"
        },
        "id": "6bgf9J0Lh56z",
        "outputId": "701de3c5-8267-4e3f-fb7f-ec15257f57cc"
      },
      "execution_count": 81,
      "outputs": [
        {
          "output_type": "execute_result",
          "data": {
            "text/plain": [
              "['O processamento de linguagem natural (PLN) é um campo da inteligência artificial no qual os computadores analisam, entendem e derivam significados da linguagem humana de maneira inteligente e útil.',\n",
              " 'Ao utilizar a NLP, os desenvolvedores podem organizar e estruturar o conhecimento para executar tarefas como sumarização automática, tradução, reconhecimento de entidade nomeada, extração de relacionamento, análise de sentimento, reconhecimento de fala e segmentação de tópicos.',\n",
              " '\"Além das operações comuns do processador de texto que tratam o texto como uma mera sequência de símbolos, a PNL considera a estrutura hierárquica da linguagem: várias palavras formam uma frase, várias frases formam uma frase e, em última análise, as frases transmitem ideias\", John Rehling, especialista em PNL.',\n",
              " 'especialista do Meltwater Group, diz em  How Natural Language Processing Helps Uncover Social Media Sentiment .',\n",
              " '\"Ao analisar a linguagem pelo seu significado, os sistemas de PNL têm desempenhado funções úteis há muito tempo, como corrigir gramática, converter fala em texto e traduzir automaticamente entre idiomas.\"',\n",
              " 'A PNL é usada para analisar texto, permitindo que as máquinas  entendam como os humanos falam .',\n",
              " 'Essa interação humano-computador permite aplicativos do mundo real, como  resumo automático de texto ,  análise de sentimento ,  extração de tópicos ,  reconhecimento de entidade nomeada ,  marcação de partes de fala ,  extração de relacionamento ,  lematização e muito mais.',\n",
              " 'A PNL é comumente usada para  mineração de texto ,  tradução automática e  resposta automática de perguntas .',\n",
              " 'A PNL é caracterizada como um problema difícil em ciência da computação.',\n",
              " 'A linguagem humana raramente é precisa ou falada com clareza.',\n",
              " 'Entender a linguagem humana é entender não apenas as palavras, mas os conceitos e como eles estão  ligados entre si para criar significado .',\n",
              " 'Apesar da linguagem ser uma das coisas mais fáceis para a mente humana aprender, a ambiguidade da linguagem é o que torna o processamento da linguagem natural um problema difícil para os computadores dominarem.']"
            ]
          },
          "metadata": {},
          "execution_count": 81
        }
      ]
    },
    {
      "cell_type": "markdown",
      "source": [
        "**Criando uma função que realiza o somatório da frequencia das palavras**"
      ],
      "metadata": {
        "id": "BX_CQ5e9_WHB"
      }
    },
    {
      "cell_type": "code",
      "source": [
        "sentenca_valor = {} #criando um dicionário vazio p/ armazenar os valores de cada sentença \n",
        "for sentenca in sentenca_list: #percorre cada sentença da lista\n",
        "  for palavra in nltk.word_tokenize(sentenca.lower()): #converter tudo para minusculo para não diferenciar minusculo de maiusculo\n",
        "      if palavra in freq_palavras.keys(): #verifica se a palavra está no dicionário de frequencia\n",
        "        if sentenca not in sentenca_valor.keys(): #se a sentença não estiver no dicionário de frequencia\n",
        "          sentenca_valor[sentenca] = freq_palavras[palavra] #O dicionário vazio recebe o valor da frequencia\n",
        "        else:\n",
        "          sentenca_valor[sentenca] += freq_palavras[palavra] #senão se já existe a palavra no dicionário, faz o somatório\n",
        "\n"
      ],
      "metadata": {
        "id": "ij__SKlam-iT"
      },
      "execution_count": 82,
      "outputs": []
    },
    {
      "cell_type": "code",
      "source": [
        "sentenca_valor"
      ],
      "metadata": {
        "colab": {
          "base_uri": "https://localhost:8080/"
        },
        "id": "5L5s2mF1tQQC",
        "outputId": "634124c9-fe7f-4585-bc99-ed5687cb4b7f"
      },
      "execution_count": 83,
      "outputs": [
        {
          "output_type": "execute_result",
          "data": {
            "text/plain": [
              "{'\"Além das operações comuns do processador de texto que tratam o texto como uma mera sequência de símbolos, a PNL considera a estrutura hierárquica da linguagem: várias palavras formam uma frase, várias frases formam uma frase e, em última análise, as frases transmitem ideias\", John Rehling, especialista em PNL.': 8.444444444444443,\n",
              " '\"Ao analisar a linguagem pelo seu significado, os sistemas de PNL têm desempenhado funções úteis há muito tempo, como corrigir gramática, converter fala em texto e traduzir automaticamente entre idiomas.\"': 4.888888888888888,\n",
              " 'A PNL é caracterizada como um problema difícil em ciência da computação.': 1.4444444444444444,\n",
              " 'A PNL é comumente usada para  mineração de texto ,  tradução automática e  resposta automática de perguntas .': 2.8888888888888893,\n",
              " 'A PNL é usada para analisar texto, permitindo que as máquinas  entendam como os humanos falam .': 2.3333333333333335,\n",
              " 'A linguagem humana raramente é precisa ou falada com clareza.': 1.888888888888889,\n",
              " 'Ao utilizar a NLP, os desenvolvedores podem organizar e estruturar o conhecimento para executar tarefas como sumarização automática, tradução, reconhecimento de entidade nomeada, extração de relacionamento, análise de sentimento, reconhecimento de fala e segmentação de tópicos.': 4.555555555555556,\n",
              " 'Apesar da linguagem ser uma das coisas mais fáceis para a mente humana aprender, a ambiguidade da linguagem é o que torna o processamento da linguagem natural um problema difícil para os computadores dominarem.': 5.666666666666666,\n",
              " 'Entender a linguagem humana é entender não apenas as palavras, mas os conceitos e como eles estão  ligados entre si para criar significado .': 2.8888888888888893,\n",
              " 'Essa interação humano-computador permite aplicativos do mundo real, como  resumo automático de texto ,  análise de sentimento ,  extração de tópicos ,  reconhecimento de entidade nomeada ,  marcação de partes de fala ,  extração de relacionamento ,  lematização e muito mais.': 4.666666666666667,\n",
              " 'O processamento de linguagem natural (PLN) é um campo da inteligência artificial no qual os computadores analisam, entendem e derivam significados da linguagem humana de maneira inteligente e útil.': 4.444444444444444,\n",
              " 'especialista do Meltwater Group, diz em  How Natural Language Processing Helps Uncover Social Media Sentiment .': 1.7777777777777781}"
            ]
          },
          "metadata": {},
          "execution_count": 83
        }
      ]
    },
    {
      "cell_type": "markdown",
      "source": [
        "**Ordenação das 3 melhores sentenças**"
      ],
      "metadata": {
        "id": "RwEMV6PZ_1_q"
      }
    },
    {
      "cell_type": "code",
      "source": [
        "best = heapq.nlargest(3, sentenca_valor, key=sentenca_valor.get) # a variavel best recebe uma função que recebe os n maiores valores em um dicionário\n",
        "                                                                 # tendo como parametro: 3 sentenças, dicionário, busca o valor das chaves\n",
        "resumo = ' '.join(best) #a variável resumo concatena as melhores sentenças, espaço ' ' para separar as sentenças\n",
        "best"
      ],
      "metadata": {
        "colab": {
          "base_uri": "https://localhost:8080/"
        },
        "id": "PIBft970xbv6",
        "outputId": "fd861af7-5e78-4bdd-df22-ec23ba7e1484"
      },
      "execution_count": 87,
      "outputs": [
        {
          "output_type": "execute_result",
          "data": {
            "text/plain": [
              "['\"Além das operações comuns do processador de texto que tratam o texto como uma mera sequência de símbolos, a PNL considera a estrutura hierárquica da linguagem: várias palavras formam uma frase, várias frases formam uma frase e, em última análise, as frases transmitem ideias\", John Rehling, especialista em PNL.',\n",
              " 'Apesar da linguagem ser uma das coisas mais fáceis para a mente humana aprender, a ambiguidade da linguagem é o que torna o processamento da linguagem natural um problema difícil para os computadores dominarem.',\n",
              " '\"Ao analisar a linguagem pelo seu significado, os sistemas de PNL têm desempenhado funções úteis há muito tempo, como corrigir gramática, converter fala em texto e traduzir automaticamente entre idiomas.\"']"
            ]
          },
          "metadata": {},
          "execution_count": 87
        }
      ]
    },
    {
      "cell_type": "markdown",
      "source": [
        "**Criando uma função para Visualizar o resumo do texto**"
      ],
      "metadata": {
        "id": "SZEL8g1ayeKD"
      }
    },
    {
      "cell_type": "code",
      "source": [
        "from IPython.core.display import HTML #importanto a classe para se trabalhar com HTML\n",
        "texto = '' #criando uma variável texto vazia\n",
        "display(HTML(f'<h1>Resumo do texto</h1')) #criando um título h1=tamanho do texto\n",
        "for sentenca in sentenca_list: #percorrendo sentenças da lista de sentença original\n",
        "  if sentenca in best: #se as sentenças que estou percorrendo estiverem dentro da lista de melhores sentenças\n",
        "   texto += str(sentenca).replace(sentenca, f\"<mark>{sentenca}</mark>\") \n",
        "   #texto recebe ele mesmo, convertendo para string, troca o texto original pelo texto com markdown(com realce)\n",
        "  else: \n",
        "    texto += sentenca\n",
        "display(HTML(f\"\"\"{texto}\"\"\"))"
      ],
      "metadata": {
        "colab": {
          "base_uri": "https://localhost:8080/",
          "height": 196
        },
        "id": "LKxHonuiyhl8",
        "outputId": "c5a987d5-00c8-42bd-d9ac-7ac8f6c6ac50"
      },
      "execution_count": 85,
      "outputs": [
        {
          "output_type": "display_data",
          "data": {
            "text/plain": [
              "<IPython.core.display.HTML object>"
            ],
            "text/html": [
              "<h1>Resumo do texto</h1"
            ]
          },
          "metadata": {}
        },
        {
          "output_type": "display_data",
          "data": {
            "text/plain": [
              "<IPython.core.display.HTML object>"
            ],
            "text/html": [
              "O processamento de linguagem natural (PLN) é um campo da inteligência artificial no qual os computadores analisam, entendem e derivam significados da linguagem humana de maneira inteligente e útil.Ao utilizar a NLP, os desenvolvedores podem organizar e estruturar o conhecimento para executar tarefas como sumarização automática, tradução, reconhecimento de entidade nomeada, extração de relacionamento, análise de sentimento, reconhecimento de fala e segmentação de tópicos.<mark>\"Além das operações comuns do processador de texto que tratam o texto como uma mera sequência de símbolos, a PNL considera a estrutura hierárquica da linguagem: várias palavras formam uma frase, várias frases formam uma frase e, em última análise, as frases transmitem ideias\", John Rehling, especialista em PNL.</mark>especialista do Meltwater Group, diz em  How Natural Language Processing Helps Uncover Social Media Sentiment .<mark>\"Ao analisar a linguagem pelo seu significado, os sistemas de PNL têm desempenhado funções úteis há muito tempo, como corrigir gramática, converter fala em texto e traduzir automaticamente entre idiomas.\"</mark>A PNL é usada para analisar texto, permitindo que as máquinas  entendam como os humanos falam .Essa interação humano-computador permite aplicativos do mundo real, como  resumo automático de texto ,  análise de sentimento ,  extração de tópicos ,  reconhecimento de entidade nomeada ,  marcação de partes de fala ,  extração de relacionamento ,  lematização e muito mais.A PNL é comumente usada para  mineração de texto ,  tradução automática e  resposta automática de perguntas .A PNL é caracterizada como um problema difícil em ciência da computação.A linguagem humana raramente é precisa ou falada com clareza.Entender a linguagem humana é entender não apenas as palavras, mas os conceitos e como eles estão  ligados entre si para criar significado .<mark>Apesar da linguagem ser uma das coisas mais fáceis para a mente humana aprender, a ambiguidade da linguagem é o que torna o processamento da linguagem natural um problema difícil para os computadores dominarem.</mark>"
            ]
          },
          "metadata": {}
        }
      ]
    }
  ]
}