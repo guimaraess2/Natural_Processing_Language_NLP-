{
  "nbformat": 4,
  "nbformat_minor": 0,
  "metadata": {
    "colab": {
      "name": "Sentiment_Analysis.ipynb",
      "provenance": [],
      "authorship_tag": "ABX9TyPKS3s8XxoS7xJmtiC5Yh1V",
      "include_colab_link": true
    },
    "kernelspec": {
      "name": "python3",
      "display_name": "Python 3"
    }
  },
  "cells": [
    {
      "cell_type": "markdown",
      "metadata": {
        "id": "view-in-github",
        "colab_type": "text"
      },
      "source": [
        "<a href=\"https://colab.research.google.com/github/guimaraess2/Sentiment-Analysis-NLP-/blob/main/Sentiment_Analysis.ipynb\" target=\"_parent\"><img src=\"https://colab.research.google.com/assets/colab-badge.svg\" alt=\"Open In Colab\"/></a>"
      ]
    },
    {
      "cell_type": "markdown",
      "metadata": {
        "id": "aNC97DMrFN_K"
      },
      "source": [
        "**Importando as bibliotecas/Importing the libraries**\n",
        "\n",
        "\n",
        "\n",
        "\n"
      ]
    },
    {
      "cell_type": "code",
      "metadata": {
        "id": "pXtJELvT1Cva",
        "outputId": "0a5d7cee-7e62-4893-c73f-e7f6231d6e3c",
        "colab": {
          "base_uri": "https://localhost:8080/",
          "height": 308
        }
      },
      "source": [
        "!pip install pandas plotnine"
      ],
      "execution_count": 142,
      "outputs": [
        {
          "output_type": "stream",
          "text": [
            "Requirement already satisfied: pandas in /usr/local/lib/python3.6/dist-packages (1.1.2)\n",
            "Requirement already satisfied: plotnine in /usr/local/lib/python3.6/dist-packages (0.6.0)\n",
            "Requirement already satisfied: numpy>=1.15.4 in /usr/local/lib/python3.6/dist-packages (from pandas) (1.18.5)\n",
            "Requirement already satisfied: pytz>=2017.2 in /usr/local/lib/python3.6/dist-packages (from pandas) (2018.9)\n",
            "Requirement already satisfied: python-dateutil>=2.7.3 in /usr/local/lib/python3.6/dist-packages (from pandas) (2.8.1)\n",
            "Requirement already satisfied: matplotlib>=3.1.1 in /usr/local/lib/python3.6/dist-packages (from plotnine) (3.2.2)\n",
            "Requirement already satisfied: statsmodels>=0.9.0 in /usr/local/lib/python3.6/dist-packages (from plotnine) (0.10.2)\n",
            "Requirement already satisfied: patsy>=0.4.1 in /usr/local/lib/python3.6/dist-packages (from plotnine) (0.5.1)\n",
            "Requirement already satisfied: descartes>=1.1.0 in /usr/local/lib/python3.6/dist-packages (from plotnine) (1.1.0)\n",
            "Requirement already satisfied: mizani>=0.6.0 in /usr/local/lib/python3.6/dist-packages (from plotnine) (0.6.0)\n",
            "Requirement already satisfied: scipy>=1.2.0 in /usr/local/lib/python3.6/dist-packages (from plotnine) (1.4.1)\n",
            "Requirement already satisfied: six>=1.5 in /usr/local/lib/python3.6/dist-packages (from python-dateutil>=2.7.3->pandas) (1.15.0)\n",
            "Requirement already satisfied: pyparsing!=2.0.4,!=2.1.2,!=2.1.6,>=2.0.1 in /usr/local/lib/python3.6/dist-packages (from matplotlib>=3.1.1->plotnine) (2.4.7)\n",
            "Requirement already satisfied: kiwisolver>=1.0.1 in /usr/local/lib/python3.6/dist-packages (from matplotlib>=3.1.1->plotnine) (1.2.0)\n",
            "Requirement already satisfied: cycler>=0.10 in /usr/local/lib/python3.6/dist-packages (from matplotlib>=3.1.1->plotnine) (0.10.0)\n",
            "Requirement already satisfied: palettable in /usr/local/lib/python3.6/dist-packages (from mizani>=0.6.0->plotnine) (3.3.0)\n"
          ],
          "name": "stdout"
        }
      ]
    },
    {
      "cell_type": "code",
      "metadata": {
        "id": "S2NG0V5xFtxd",
        "outputId": "ffa8637d-ea31-4fbe-bfe5-172c24964f77",
        "colab": {
          "base_uri": "https://localhost:8080/",
          "height": 85
        }
      },
      "source": [
        "import re\n",
        "import pandas as pd\n",
        "import seaborn as sns\n",
        "from sklearn.feature_extraction.text import CountVectorizer\n",
        "from sklearn.naive_bayes import MultinomialNB\n",
        "from sklearn import metrics\n",
        "from sklearn.model_selection import cross_val_predict\n",
        "nltk.download('stopwords')\n",
        "nltk.download('rslp')\n",
        "import nltk\n",
        "from nltk import word_tokenize\n",
        "from sklearn.pipeline import Pipeline\n",
        "from plotnine import *\n",
        "from plotnine.data import mpg\n",
        "%matplotlib inline"
      ],
      "execution_count": 143,
      "outputs": [
        {
          "output_type": "stream",
          "text": [
            "[nltk_data] Downloading package stopwords to /root/nltk_data...\n",
            "[nltk_data]   Package stopwords is already up-to-date!\n",
            "[nltk_data] Downloading package rslp to /root/nltk_data...\n",
            "[nltk_data]   Package rslp is already up-to-date!\n"
          ],
          "name": "stdout"
        }
      ]
    },
    {
      "cell_type": "markdown",
      "metadata": {
        "id": "x8CKtC-oHfq0"
      },
      "source": [
        "**Importar o dataset/Import the dataset**"
      ]
    },
    {
      "cell_type": "code",
      "metadata": {
        "id": "aysqXKRBjBFd"
      },
      "source": [
        "df = pd.read_csv('/content/sample_data/Sentiment_analysis.csv')"
      ],
      "execution_count": 144,
      "outputs": []
    },
    {
      "cell_type": "markdown",
      "metadata": {
        "id": "azXRRiUlclKa"
      },
      "source": [
        "**Visualizando algumas linhas/Viewing some lines**"
      ]
    },
    {
      "cell_type": "code",
      "metadata": {
        "id": "qnoy1Ax8F5Lk",
        "outputId": "7759c32b-9e48-45e8-f9ea-c1ba8137fc55",
        "colab": {
          "base_uri": "https://localhost:8080/",
          "height": 204
        }
      },
      "source": [
        "df.tail()"
      ],
      "execution_count": 145,
      "outputs": [
        {
          "output_type": "execute_result",
          "data": {
            "text/html": [
              "<div>\n",
              "<style scoped>\n",
              "    .dataframe tbody tr th:only-of-type {\n",
              "        vertical-align: middle;\n",
              "    }\n",
              "\n",
              "    .dataframe tbody tr th {\n",
              "        vertical-align: top;\n",
              "    }\n",
              "\n",
              "    .dataframe thead th {\n",
              "        text-align: right;\n",
              "    }\n",
              "</style>\n",
              "<table border=\"1\" class=\"dataframe\">\n",
              "  <thead>\n",
              "    <tr style=\"text-align: right;\">\n",
              "      <th></th>\n",
              "      <th>sentiment</th>\n",
              "      <th>text</th>\n",
              "    </tr>\n",
              "  </thead>\n",
              "  <tbody>\n",
              "    <tr>\n",
              "      <th>94</th>\n",
              "      <td>positive</td>\n",
              "      <td>Biggest CO2 drop: Real-time data shows Covid-1...</td>\n",
              "    </tr>\n",
              "    <tr>\n",
              "      <th>95</th>\n",
              "      <td>positive</td>\n",
              "      <td>RT @KirkDBorne: [UPDATED] Free PDF #DataScienc...</td>\n",
              "    </tr>\n",
              "    <tr>\n",
              "      <th>96</th>\n",
              "      <td>positive</td>\n",
              "      <td>RT @gp_pulipaka: The Best Data Science Books o...</td>\n",
              "    </tr>\n",
              "    <tr>\n",
              "      <th>97</th>\n",
              "      <td>positive</td>\n",
              "      <td>RT @mrfrankish: Today's #learning journey @Mag...</td>\n",
              "    </tr>\n",
              "    <tr>\n",
              "      <th>98</th>\n",
              "      <td>positive</td>\n",
              "      <td>RT @gp_pulipaka: Free Online Books to Learn R ...</td>\n",
              "    </tr>\n",
              "  </tbody>\n",
              "</table>\n",
              "</div>"
            ],
            "text/plain": [
              "   sentiment                                               text\n",
              "94  positive  Biggest CO2 drop: Real-time data shows Covid-1...\n",
              "95  positive  RT @KirkDBorne: [UPDATED] Free PDF #DataScienc...\n",
              "96  positive  RT @gp_pulipaka: The Best Data Science Books o...\n",
              "97  positive  RT @mrfrankish: Today's #learning journey @Mag...\n",
              "98  positive  RT @gp_pulipaka: Free Online Books to Learn R ..."
            ]
          },
          "metadata": {
            "tags": []
          },
          "execution_count": 145
        }
      ]
    },
    {
      "cell_type": "markdown",
      "metadata": {
        "id": "LLJPI3BDKLrr"
      },
      "source": [
        "**Contar a quantidade de linhas de tweets positivos, negativos e neutros/Count the number of lines of positive, negative and neutral tweets**"
      ]
    },
    {
      "cell_type": "code",
      "metadata": {
        "id": "8ztsf0rOJEXu",
        "outputId": "867781bc-7509-4795-eddd-026899c8b527",
        "colab": {
          "base_uri": "https://localhost:8080/",
          "height": 498
        }
      },
      "source": [
        "(ggplot(df)+ aes(x='sentiment', fill='sentiment') + geom_bar(size=20))\n"
      ],
      "execution_count": 146,
      "outputs": [
        {
          "output_type": "stream",
          "text": [
            "/usr/local/lib/python3.6/dist-packages/plotnine/utils.py:1246: FutureWarning: is_categorical is deprecated and will be removed in a future version.  Use is_categorical_dtype instead\n",
            "  if pdtypes.is_categorical(arr):\n"
          ],
          "name": "stderr"
        },
        {
          "output_type": "display_data",
          "data": {
            "image/png": "[encoded data removed]",
            "text/plain": [
              "<Figure size 640x480 with 1 Axes>"
            ]
          },
          "metadata": {
            "tags": []
          }
        },
        {
          "output_type": "execute_result",
          "data": {
            "text/plain": [
              "<ggplot: (8746098802643)>"
            ]
          },
          "metadata": {
            "tags": []
          },
          "execution_count": 146
        }
      ]
    },
    {
      "cell_type": "markdown",
      "metadata": {
        "id": "u8mDnmFfWN1u"
      },
      "source": [
        "**Visualizar as primeiras 20 linhas da coluna de texto/View the first 20 lines of the text column**"
      ]
    },
    {
      "cell_type": "code",
      "metadata": {
        "id": "DEy5_SrFJOnh",
        "outputId": "9c7b2166-9e03-4ce4-f55f-d04ab749d04c",
        "colab": {
          "base_uri": "https://localhost:8080/",
          "height": 374
        }
      },
      "source": [
        "df.text.head(20)"
      ],
      "execution_count": 147,
      "outputs": [
        {
          "output_type": "execute_result",
          "data": {
            "text/plain": [
              "0     RT @profnfenton: 6. None of this is exactly ro...\n",
              "1     @davidhogg111 @lynecarr All data is past data,...\n",
              "2     RT @sarang143u: Data Science Community discuss...\n",
              "3     Data Science Community discussion to focus on ...\n",
              "4     RT @SAURAVSINGLA_08: https://t.co/POwmZ6rl3c\\n...\n",
              "5     RT @SAURAVSINGLA_08: https://t.co/POwmZ6rl3c\\n...\n",
              "6     RT @darioandriani: What is Data Science(DS) an...\n",
              "7     What is Data Science(DS) and How can it be lea...\n",
              "8     RT: DataScienceCtrl Trends in AI and Data Scie...\n",
              "9           Data Science is just: idea scan cites just.\n",
              "10    RT @codek_tv: Top 10 Python IDEs For Data Scie...\n",
              "11    RT @codek_tv: Top 10 Python IDEs For Data Scie...\n",
              "12    RT @codek_tv: Top 10 Python IDEs For Data Scie...\n",
              "13    Databases 101: How to Choose a Python Database...\n",
              "14    RT @ianmSC: Argentina has had one of the world...\n",
              "15    @Austen Applied for data science track in earl...\n",
              "16    The 'President ' doesn't understand data or sc...\n",
              "17    @erandaw1 @milkmyoats @carnivorz @SustainableD...\n",
              "18    RT @databricks: ICYMI: Catch our on-demand vid...\n",
              "19    RT @SAURAVSINGLA_08: Famous Probability Distri...\n",
              "Name: text, dtype: object"
            ]
          },
          "metadata": {
            "tags": []
          },
          "execution_count": 147
        }
      ]
    },
    {
      "cell_type": "markdown",
      "metadata": {
        "id": "taxFlwRVWn_m"
      },
      "source": [
        "**Separando os tweets e a classe/\n",
        "Separating tweets and class**"
      ]
    },
    {
      "cell_type": "code",
      "metadata": {
        "id": "UVos44f-Q0SC"
      },
      "source": [
        "tweets = df['text']\n",
        "classes = df['sentiment']"
      ],
      "execution_count": 148,
      "outputs": []
    },
    {
      "cell_type": "markdown",
      "metadata": {
        "id": "SGFzI50mXFfK"
      },
      "source": [
        "**1) Criando função que remove palavras sem relevância (stop words)/Creating function that removes words without relevance (stop words)**"
      ]
    },
    {
      "cell_type": "code",
      "metadata": {
        "id": "rE7E1miESpV6"
      },
      "source": [
        "def RemoveStopWords(instancia): \n",
        "    stopwords = set(nltk.corpus.stopwords.words('english')) \n",
        "    palavras = [i for i  in instancia.split() if not i in stopwords] \n",
        "    return (\" \".join(palavras)) "
      ],
      "execution_count": 149,
      "outputs": []
    },
    {
      "cell_type": "markdown",
      "metadata": {
        "id": "hJDuwlqX-SHa"
      },
      "source": [
        "*Testando a função RemoveStopWords/Testing the RemoveStopWords function*\n",
        "\n",
        "\n"
      ]
    },
    {
      "cell_type": "code",
      "metadata": {
        "id": "6HfaKK9H-Xjz",
        "outputId": "97a15668-de73-4c30-968d-e4b9b83017ae",
        "colab": {
          "base_uri": "https://localhost:8080/",
          "height": 35
        }
      },
      "source": [
        "RemoveStopWords('Data Science Community discussion to focus on machine learning in education ')"
      ],
      "execution_count": 150,
      "outputs": [
        {
          "output_type": "execute_result",
          "data": {
            "application/vnd.google.colaboratory.intrinsic+json": {
              "type": "string"
            },
            "text/plain": [
              "'Data Science Community discussion focus machine learning education'"
            ]
          },
          "metadata": {
            "tags": []
          },
          "execution_count": 150
        }
      ]
    },
    {
      "cell_type": "markdown",
      "metadata": {
        "id": "A6wZNXYvXajO"
      },
      "source": [
        "**2) Criando função Stemming que reduz a palavra na forma radical/Creating Stemming function that reduces the word in radical form**"
      ]
    },
    {
      "cell_type": "code",
      "metadata": {
        "id": "J_6wPVo4VRuP"
      },
      "source": [
        "def Stemming(instancia):\n",
        "    stm = nltk.stem.RSLPStemmer() \n",
        "    palavras=[]\n",
        "    for i in instancia.split():\n",
        "        palavras.append(stm.stem(i)) \n",
        "    return(\" \".join(palavras))\n",
        "    "
      ],
      "execution_count": 151,
      "outputs": []
    },
    {
      "cell_type": "markdown",
      "metadata": {
        "id": "Jblvppbh_NIC"
      },
      "source": [
        "*Testando a função Stemming/Testing the Stemming function*"
      ]
    },
    {
      "cell_type": "code",
      "metadata": {
        "id": "k6YG8xMv_IRC",
        "outputId": "b9557258-6c7f-44bb-a54d-6dbb6bb1cc61",
        "colab": {
          "base_uri": "https://localhost:8080/",
          "height": 35
        }
      },
      "source": [
        "Stemming('Real-time data shows Covid-19’s massive impact on global emissions')"
      ],
      "execution_count": 152,
      "outputs": [
        {
          "output_type": "execute_result",
          "data": {
            "application/vnd.google.colaboratory.intrinsic+json": {
              "type": "string"
            },
            "text/plain": [
              "'real-tim dat show covid-19’ massiv impact on glob emissiom'"
            ]
          },
          "metadata": {
            "tags": []
          },
          "execution_count": 152
        }
      ]
    },
    {
      "cell_type": "markdown",
      "metadata": {
        "id": "XnVPr4SdX2JL"
      },
      "source": [
        "**3) Aplicando uma função que realiza a limpeza nos dados/Applying a function that cleans the data**"
      ]
    },
    {
      "cell_type": "code",
      "metadata": {
        "id": "TLrjEDuDc6IH"
      },
      "source": [
        "def Limpeza_dados(instancia):\n",
        "     instancia = re.sub(r\"http\\S+\", \"\", instancia).lower().replace('.','').replace(';','').replace('-','').replace(':','').replace(')','')\n",
        "     return (instancia)"
      ],
      "execution_count": 153,
      "outputs": []
    },
    {
      "cell_type": "markdown",
      "metadata": {
        "id": "8o8P6J4b_uzh"
      },
      "source": [
        "*Testando a função Limpeza_dados/Testing the Limpeza_dados function*"
      ]
    },
    {
      "cell_type": "code",
      "metadata": {
        "id": "om5FNUx2_ztr",
        "outputId": "bbf735c5-96c2-4974-f7fa-cee1f038edbb",
        "colab": {
          "base_uri": "https://localhost:8080/",
          "height": 35
        }
      },
      "source": [
        "Limpeza_dados('https//=@Heidi_Cuda:-We can do so much more science so much quicker at mars with humans in the loop than with purely robotic missions')"
      ],
      "execution_count": 154,
      "outputs": [
        {
          "output_type": "execute_result",
          "data": {
            "application/vnd.google.colaboratory.intrinsic+json": {
              "type": "string"
            },
            "text/plain": [
              "' can do so much more science so much quicker at mars with humans in the loop than with purely robotic missions'"
            ]
          },
          "metadata": {
            "tags": []
          },
          "execution_count": 154
        }
      ]
    },
    {
      "cell_type": "markdown",
      "metadata": {
        "id": "y_QRdEl4OPY8"
      },
      "source": [
        "**Aplicando as 3 funções de Pre-processamento nos dados/Applying the 3 Pre-processing functions to the data**"
      ]
    },
    {
      "cell_type": "code",
      "metadata": {
        "id": "LKFoAFv-BY5y"
      },
      "source": [
        "def Preprocessing(instancia):\n",
        "    stemmer = nltk.stem.RSLPStemmer()\n",
        "    instancia = re.sub(r\"http\\S+\", \"\", instancia).lower().replace('.','').replace(';','').replace('-','').replace(':','').replace('@','').replace('#','').replace('\\\\','')\n",
        "    stopwords = set(nltk.corpus.stopwords.words('english'))\n",
        "    palavras = [stemmer.stem(i) for i in instancia.split() if not i in stopwords]\n",
        "    return (\" \".join(palavras))\n",
        "\n",
        "tweets = [Preprocessing(i) for i in tweets]"
      ],
      "execution_count": 155,
      "outputs": []
    },
    {
      "cell_type": "markdown",
      "metadata": {
        "id": "MTvSe73YFFkf"
      },
      "source": [
        "**Visualizando como ficou o texto após Pré-processamento dos dados/Visualizing the text after the data pre-processing**"
      ]
    },
    {
      "cell_type": "code",
      "metadata": {
        "id": "KYJDsGbOOG4b",
        "outputId": "dedbb319-33fc-4deb-f787-2b4fafa01851",
        "colab": {
          "base_uri": "https://localhost:8080/",
          "height": 357
        }
      },
      "source": [
        "tweets[:20]"
      ],
      "execution_count": 156,
      "outputs": [
        {
          "output_type": "execute_result",
          "data": {
            "text/plain": [
              "['rt profnfenton 6 non exactly rocket scienc download dat open excel divid n…',\n",
              " 'davidhogg111 lynecarr dat past data, past dat show futur trend trend extrapolation larg part dat scienc',\n",
              " 'rt sarang143u dat scienc community discussion focu machin learning education | penn stat universitynnpenn stat community m…',\n",
              " 'dat scienc community discussion focu machin learning education | penn stat universitynnpenn stat com…',\n",
              " 'rt sauravsingla_08 artificialintelligenc machinelearning 100daysofcodechalleng deeplearn…',\n",
              " 'rt sauravsingla_08 artificialintelligenc machinelearning 100daysofcodechalleng deeplearn…',\n",
              " 'rt darioandrian dat science(ds) learned?nn darioandrian 🔹ncc enricomolinar …',\n",
              " 'dat science(ds) learned?nn darioandrian 🔹ncc…',\n",
              " 'rt datasciencectrl trend ai dat scienc 2020� infographic',\n",
              " 'dat scienc ide scan cit',\n",
              " 'rt codek_tv top 10 python ide dat sciencen☞ python datascienc visualstudi numpy machinelearn…',\n",
              " 'rt codek_tv top 10 python ide dat sciencen☞ python datascienc visualstudi numpy machinelearn…',\n",
              " 'rt codek_tv top 10 python ide dat sciencen☞ python datascienc visualstudi numpy machinelearn…',\n",
              " 'databas 101 choos python databas library | sar metwall | oct, 2020 | toward dat science…',\n",
              " 'rt ianmsc argentin one world’ longest lockdowns, mandated mask early, april 14thnn evident da…',\n",
              " 'austen applied dat scienc track early aug, worked w/ admissiom midaug mov parttim fullstac…',\n",
              " \"'president ' understand dat scienc simpl whol world still covid war together,…\",\n",
              " 'erandaw1 milkmyoat carnivorz sustainabledish robbwolf carnivoremd buzzword buzzword everywhere!ns e…',\n",
              " 'rt databrick icym catch ondemand vide join dennyle candid conversatiom discus collaboration d…',\n",
              " 'rt sauravsingla_08 fam probability distributiom tdatascienc nndatascienc artificialintelligenc 100day…']"
            ]
          },
          "metadata": {
            "tags": []
          },
          "execution_count": 156
        }
      ]
    },
    {
      "cell_type": "markdown",
      "metadata": {
        "id": "1Ay_xOJtYRB9"
      },
      "source": [
        "**Criando um modelo/Creating the model**"
      ]
    },
    {
      "cell_type": "markdown",
      "metadata": {
        "id": "_VnPbllKYjef"
      },
      "source": [
        "*Aplicando a vetorização para analisar palavra por palavra/\n",
        "Applying vectorizer to analyze word by word*"
      ]
    },
    {
      "cell_type": "code",
      "metadata": {
        "id": "BfrA107RY6pK"
      },
      "source": [
        "vect = CountVectorizer(analyzer='word')"
      ],
      "execution_count": 157,
      "outputs": []
    },
    {
      "cell_type": "code",
      "metadata": {
        "id": "YuC3aq9DZQAw"
      },
      "source": [
        "freq_tweets = vect.fit_transform(tweets)\n"
      ],
      "execution_count": 158,
      "outputs": []
    },
    {
      "cell_type": "markdown",
      "metadata": {
        "id": "6fvTd8lCY0yv"
      },
      "source": [
        "**Aplicando ao modelo o classificador Naives Bayes/Applying the Naives Bayes classifier to the model**"
      ]
    },
    {
      "cell_type": "code",
      "metadata": {
        "id": "qRKaihjDaP7Q"
      },
      "source": [
        "modelo = MultinomialNB()"
      ],
      "execution_count": 159,
      "outputs": []
    },
    {
      "cell_type": "markdown",
      "metadata": {
        "id": "kcqea1JpZBh9"
      },
      "source": [
        "**Treinando o modelo/Training the model**"
      ]
    },
    {
      "cell_type": "code",
      "metadata": {
        "id": "u3o-PLdDam-b",
        "outputId": "090352da-0daf-4ada-9a98-bc801627bd17",
        "colab": {
          "base_uri": "https://localhost:8080/",
          "height": 34
        }
      },
      "source": [
        "modelo.fit(freq_tweets, classes)"
      ],
      "execution_count": 160,
      "outputs": [
        {
          "output_type": "execute_result",
          "data": {
            "text/plain": [
              "MultinomialNB(alpha=1.0, class_prior=None, fit_prior=True)"
            ]
          },
          "metadata": {
            "tags": []
          },
          "execution_count": 160
        }
      ]
    },
    {
      "cell_type": "markdown",
      "metadata": {
        "id": "SPfRBu8QGV1X"
      },
      "source": [
        "**Testando o modelo com algumas instancias/Testing the model with a few instances**"
      ]
    },
    {
      "cell_type": "code",
      "metadata": {
        "id": "Zul1EYrqGFTK"
      },
      "source": [
        "testes = ['databrick icym catch ondemand vid join dennyl candid conversatiom discu collaboration',\n",
        "          'What is Data Science(DS) and How can it be learned?',\n",
        "          'VirusWhisperer: The problem with science is that data is highly inconvenient to politicians',\n",
        "          'Data Mining with Python! Real-Life Data Science Exercises']"
      ],
      "execution_count": 161,
      "outputs": []
    },
    {
      "cell_type": "markdown",
      "metadata": {
        "id": "trTzVodFWufP"
      },
      "source": [
        "**Aplicando a função de Pre-processamento nos dados/Applying the Preprocessing function to the data**"
      ]
    },
    {
      "cell_type": "code",
      "metadata": {
        "id": "BXX2VHcNV_qa"
      },
      "source": [
        "testes=[Preprocessing(i) for i in testes]"
      ],
      "execution_count": 162,
      "outputs": []
    },
    {
      "cell_type": "code",
      "metadata": {
        "id": "sJUDx-cMEVy8"
      },
      "source": [
        "freq_testes = vect.transform(testes)"
      ],
      "execution_count": 163,
      "outputs": []
    },
    {
      "cell_type": "code",
      "metadata": {
        "id": "PcOpWY_gHOZ7",
        "outputId": "81a153a1-6f22-43d5-b03f-9ecf58311491",
        "colab": {
          "base_uri": "https://localhost:8080/",
          "height": 87
        }
      },
      "source": [
        "for t, c in zip (testes,modelo.predict(freq_testes)):\n",
        "    print (t +\", \"+ c)\n"
      ],
      "execution_count": 164,
      "outputs": [
        {
          "output_type": "stream",
          "text": [
            "databrick icym catch ondemand vid join dennyl candid conversatiom discu collaboration, positive\n",
            "dat science(ds) learned?, neutral\n",
            "viruswhisper probl scienc dat highly inconvenient politic, negative\n",
            "dat mining python! reallif dat scienc exercis, positive\n"
          ],
          "name": "stdout"
        }
      ]
    },
    {
      "cell_type": "markdown",
      "metadata": {
        "id": "vUkd3Q85Hk7h"
      },
      "source": [
        "**Criando um Pipeline para reduzir código e automatizar processos/Creating a Pipeline to reduce code and automate processes**"
      ]
    },
    {
      "cell_type": "code",
      "metadata": {
        "id": "hyljz6ImHU7Q"
      },
      "source": [
        "pip_1 = Pipeline([\n",
        "                  ('cont', CountVectorizer() ),   \n",
        "                  ('classificador',  MultinomialNB() )       \n",
        "])"
      ],
      "execution_count": 165,
      "outputs": []
    },
    {
      "cell_type": "code",
      "metadata": {
        "id": "_RWmnqx-YXI3",
        "outputId": "13b79b5d-ea23-48ae-9c8f-55a2f06fd0c1",
        "colab": {
          "base_uri": "https://localhost:8080/",
          "height": 265
        }
      },
      "source": [
        "pip_1.fit(tweets,classes)"
      ],
      "execution_count": 166,
      "outputs": [
        {
          "output_type": "execute_result",
          "data": {
            "text/plain": [
              "Pipeline(memory=None,\n",
              "         steps=[('cont',\n",
              "                 CountVectorizer(analyzer='word', binary=False,\n",
              "                                 decode_error='strict',\n",
              "                                 dtype=<class 'numpy.int64'>, encoding='utf-8',\n",
              "                                 input='content', lowercase=True, max_df=1.0,\n",
              "                                 max_features=None, min_df=1,\n",
              "                                 ngram_range=(1, 1), preprocessor=None,\n",
              "                                 stop_words=None, strip_accents=None,\n",
              "                                 token_pattern='(?u)\\\\b\\\\w\\\\w+\\\\b',\n",
              "                                 tokenizer=None, vocabulary=None)),\n",
              "                ('classificador',\n",
              "                 MultinomialNB(alpha=1.0, class_prior=None, fit_prior=True))],\n",
              "         verbose=False)"
            ]
          },
          "metadata": {
            "tags": []
          },
          "execution_count": 166
        }
      ]
    },
    {
      "cell_type": "markdown",
      "metadata": {
        "id": "2Va0NInimzVT"
      },
      "source": [
        "**Validando o modelo com Validação Cruzada/Validating the model with cross-validation**"
      ]
    },
    {
      "cell_type": "code",
      "metadata": {
        "id": "sYKuhdXXmr8y",
        "outputId": "6648675b-1711-4c82-c854-64bcbe640b51",
        "colab": {
          "base_uri": "https://localhost:8080/",
          "height": 52
        }
      },
      "source": [
        "resultados = cross_val_predict(pip_1, tweets, classes, cv=10) "
      ],
      "execution_count": 167,
      "outputs": [
        {
          "output_type": "stream",
          "text": [
            "/usr/local/lib/python3.6/dist-packages/sklearn/model_selection/_split.py:667: UserWarning: The least populated class in y has only 3 members, which is less than n_splits=10.\n",
            "  % (min_groups, self.n_splits)), UserWarning)\n"
          ],
          "name": "stderr"
        }
      ]
    },
    {
      "cell_type": "markdown",
      "metadata": {
        "id": "6LfcfOLCoBHy"
      },
      "source": [
        "\n",
        "\n",
        "**Medindo a acurácia média do modelo/\n",
        "Measuring the average accuracy of the model**\n",
        "\n",
        "\n"
      ]
    },
    {
      "cell_type": "code",
      "metadata": {
        "id": "SRJ9WShln7S3",
        "outputId": "341d8265-2fc6-40bf-a54e-bc2b2c831a55",
        "colab": {
          "base_uri": "https://localhost:8080/",
          "height": 34
        }
      },
      "source": [
        "acuracia = metrics.accuracy_score(classes, resultados)\n",
        "print('A acurácia do modelo atingiu {:.2f}'.format(acuracia*100),'%')"
      ],
      "execution_count": 168,
      "outputs": [
        {
          "output_type": "stream",
          "text": [
            "A acurácia do modelo atingiu 72.73 %\n"
          ],
          "name": "stdout"
        }
      ]
    },
    {
      "cell_type": "markdown",
      "metadata": {
        "id": "AlN1eNwtpLur"
      },
      "source": [
        "**Medindo a validação do modelo/\n",
        "Measuring model validation**"
      ]
    },
    {
      "cell_type": "code",
      "metadata": {
        "id": "cMi72L1no-_A",
        "outputId": "787e74d4-7acc-4776-ac53-65b54397e79e",
        "colab": {
          "base_uri": "https://localhost:8080/",
          "height": 230
        }
      },
      "source": [
        "sentimento = ['positive', 'neutral', 'negative']\n",
        "print(metrics.classification_report(classes, resultados, sentimento))"
      ],
      "execution_count": 169,
      "outputs": [
        {
          "output_type": "stream",
          "text": [
            "              precision    recall  f1-score   support\n",
            "\n",
            "    positive       0.72      0.90      0.80        60\n",
            "     neutral       0.75      0.50      0.60        36\n",
            "    negative       0.00      0.00      0.00         3\n",
            "\n",
            "    accuracy                           0.73        99\n",
            "   macro avg       0.49      0.47      0.47        99\n",
            "weighted avg       0.71      0.73      0.70        99\n",
            "\n"
          ],
          "name": "stdout"
        },
        {
          "output_type": "stream",
          "text": [
            "/usr/local/lib/python3.6/dist-packages/sklearn/metrics/_classification.py:1272: UndefinedMetricWarning: Precision and F-score are ill-defined and being set to 0.0 in labels with no predicted samples. Use `zero_division` parameter to control this behavior.\n",
            "  _warn_prf(average, modifier, msg_start, len(result))\n"
          ],
          "name": "stderr"
        }
      ]
    },
    {
      "cell_type": "markdown",
      "metadata": {
        "id": "2Yq-G9NcfPyT"
      },
      "source": [
        "**Criando uma matriz de confusão/\n",
        "Creating a confusion matrix**"
      ]
    },
    {
      "cell_type": "code",
      "metadata": {
        "id": "mhGSK0OdurTB",
        "outputId": "6c21af17-01e9-47a1-cde7-0791375e0ce5",
        "colab": {
          "base_uri": "https://localhost:8080/",
          "height": 123
        }
      },
      "source": [
        "print(pd.crosstab(classes, resultados, rownames=['Real'], colnames=['Predito'], margins=True))"
      ],
      "execution_count": 170,
      "outputs": [
        {
          "output_type": "stream",
          "text": [
            "Predito   neutral  positive  All\n",
            "Real                            \n",
            "negative        0         3    3\n",
            "neutral        18        18   36\n",
            "positive        6        54   60\n",
            "All            24        75   99\n"
          ],
          "name": "stdout"
        }
      ]
    },
    {
      "cell_type": "markdown",
      "metadata": {
        "id": "D0f-wGykf2vQ"
      },
      "source": [
        "**Nota: Cabe ao cientista de dados usar outras abordagens para tentar melhorar a acurácia do modelo / Data scientist needs to test other approaches to try to improve model accuracy**"
      ]
    }
  ]
}